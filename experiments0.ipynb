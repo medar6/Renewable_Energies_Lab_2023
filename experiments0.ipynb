{
 "cells": [
  {
   "attachments": {},
   "cell_type": "markdown",
   "metadata": {},
   "source": [
    "# Welcome to SUSSY PV"
   ]
  },
  {
   "attachments": {},
   "cell_type": "markdown",
   "metadata": {},
   "source": [
    "## By Laos, Lukesi, Darian"
   ]
  },
  {
   "cell_type": "code",
   "execution_count": 7,
   "metadata": {},
   "outputs": [
    {
     "name": "stdout",
     "output_type": "stream",
     "text": [
      "/bin/bash: cond: command not found\n",
      "\n",
      "CommandNotFoundError: Your shell has not been properly configured to use 'conda activate'.\n",
      "To initialize your shell, run\n",
      "\n",
      "    $ conda init <SHELL_NAME>\n",
      "\n",
      "Currently supported shells are:\n",
      "  - bash\n",
      "  - fish\n",
      "  - tcsh\n",
      "  - xonsh\n",
      "  - zsh\n",
      "  - powershell\n",
      "\n",
      "See 'conda init --help' for more information and options.\n",
      "\n",
      "IMPORTANT: You may need to close and restart your shell after running 'conda init'.\n",
      "\n",
      "\n"
     ]
    }
   ],
   "source": [
    "!cond create -n pvlib -c conda-forge pvlib; conda activate pvlib"
   ]
  },
  {
   "cell_type": "code",
   "execution_count": 7,
   "metadata": {},
   "outputs": [
    {
     "name": "stdout",
     "output_type": "stream",
     "text": [
      "Requirement already satisfied: pvlib in /usr/itetnas04/data-scratch-01/dmettler/data/conda_envs/py38/lib/python3.8/site-packages (0.9.5)\n",
      "Requirement already satisfied: requests in /usr/itetnas04/data-scratch-01/dmettler/data/conda_envs/py38/lib/python3.8/site-packages (from pvlib) (2.28.2)\n",
      "Requirement already satisfied: pytz in /usr/itetnas04/data-scratch-01/dmettler/data/conda_envs/py38/lib/python3.8/site-packages (from pvlib) (2023.3)\n",
      "Requirement already satisfied: scipy>=1.4.0 in /usr/itetnas04/data-scratch-01/dmettler/data/conda_envs/py38/lib/python3.8/site-packages (from pvlib) (1.10.1)\n",
      "Requirement already satisfied: h5py in /usr/itetnas04/data-scratch-01/dmettler/data/conda_envs/py38/lib/python3.8/site-packages (from pvlib) (3.8.0)\n",
      "Requirement already satisfied: pandas>=0.25.0 in /usr/itetnas04/data-scratch-01/dmettler/data/conda_envs/py38/lib/python3.8/site-packages (from pvlib) (1.5.3)\n",
      "Requirement already satisfied: numpy>=1.16.0 in /usr/itetnas04/data-scratch-01/dmettler/data/conda_envs/py38/lib/python3.8/site-packages (from pvlib) (1.24.2)\n",
      "Requirement already satisfied: python-dateutil>=2.8.1 in /usr/itetnas04/data-scratch-01/dmettler/data/conda_envs/py38/lib/python3.8/site-packages (from pandas>=0.25.0->pvlib) (2.8.2)\n",
      "Requirement already satisfied: urllib3<1.27,>=1.21.1 in /usr/itetnas04/data-scratch-01/dmettler/data/conda_envs/py38/lib/python3.8/site-packages (from requests->pvlib) (1.26.15)\n",
      "Requirement already satisfied: certifi>=2017.4.17 in /usr/itetnas04/data-scratch-01/dmettler/data/conda_envs/py38/lib/python3.8/site-packages (from requests->pvlib) (2022.12.7)\n",
      "Requirement already satisfied: charset-normalizer<4,>=2 in /usr/itetnas04/data-scratch-01/dmettler/data/conda_envs/py38/lib/python3.8/site-packages (from requests->pvlib) (3.1.0)\n",
      "Requirement already satisfied: idna<4,>=2.5 in /usr/itetnas04/data-scratch-01/dmettler/data/conda_envs/py38/lib/python3.8/site-packages (from requests->pvlib) (3.4)\n",
      "Requirement already satisfied: six>=1.5 in /usr/itetnas04/data-scratch-01/dmettler/data/conda_envs/py38/lib/python3.8/site-packages (from python-dateutil>=2.8.1->pandas>=0.25.0->pvlib) (1.16.0)\n",
      "Requirement already satisfied: numpy in /usr/itetnas04/data-scratch-01/dmettler/data/conda_envs/py38/lib/python3.8/site-packages (1.24.2)\n",
      "Requirement already satisfied: pandas in /usr/itetnas04/data-scratch-01/dmettler/data/conda_envs/py38/lib/python3.8/site-packages (1.5.3)\n",
      "Requirement already satisfied: numpy>=1.20.3 in /usr/itetnas04/data-scratch-01/dmettler/data/conda_envs/py38/lib/python3.8/site-packages (from pandas) (1.24.2)\n",
      "Requirement already satisfied: python-dateutil>=2.8.1 in /usr/itetnas04/data-scratch-01/dmettler/data/conda_envs/py38/lib/python3.8/site-packages (from pandas) (2.8.2)\n",
      "Requirement already satisfied: pytz>=2020.1 in /usr/itetnas04/data-scratch-01/dmettler/data/conda_envs/py38/lib/python3.8/site-packages (from pandas) (2023.3)\n",
      "Requirement already satisfied: six>=1.5 in /usr/itetnas04/data-scratch-01/dmettler/data/conda_envs/py38/lib/python3.8/site-packages (from python-dateutil>=2.8.1->pandas) (1.16.0)\n",
      "Requirement already satisfied: matplotlib in /usr/itetnas04/data-scratch-01/dmettler/data/conda_envs/py38/lib/python3.8/site-packages (3.7.1)\n",
      "Requirement already satisfied: fonttools>=4.22.0 in /usr/itetnas04/data-scratch-01/dmettler/data/conda_envs/py38/lib/python3.8/site-packages (from matplotlib) (4.39.3)\n",
      "Requirement already satisfied: numpy>=1.20 in /usr/itetnas04/data-scratch-01/dmettler/data/conda_envs/py38/lib/python3.8/site-packages (from matplotlib) (1.24.2)\n",
      "Requirement already satisfied: importlib-resources>=3.2.0 in /usr/itetnas04/data-scratch-01/dmettler/data/conda_envs/py38/lib/python3.8/site-packages (from matplotlib) (5.12.0)\n",
      "Requirement already satisfied: cycler>=0.10 in /usr/itetnas04/data-scratch-01/dmettler/data/conda_envs/py38/lib/python3.8/site-packages (from matplotlib) (0.11.0)\n",
      "Requirement already satisfied: python-dateutil>=2.7 in /usr/itetnas04/data-scratch-01/dmettler/data/conda_envs/py38/lib/python3.8/site-packages (from matplotlib) (2.8.2)\n",
      "Requirement already satisfied: pyparsing>=2.3.1 in /usr/itetnas04/data-scratch-01/dmettler/data/conda_envs/py38/lib/python3.8/site-packages (from matplotlib) (3.0.9)\n",
      "Requirement already satisfied: kiwisolver>=1.0.1 in /usr/itetnas04/data-scratch-01/dmettler/data/conda_envs/py38/lib/python3.8/site-packages (from matplotlib) (1.4.4)\n",
      "Requirement already satisfied: pillow>=6.2.0 in /usr/itetnas04/data-scratch-01/dmettler/data/conda_envs/py38/lib/python3.8/site-packages (from matplotlib) (9.4.0)\n",
      "Requirement already satisfied: contourpy>=1.0.1 in /usr/itetnas04/data-scratch-01/dmettler/data/conda_envs/py38/lib/python3.8/site-packages (from matplotlib) (1.0.7)\n",
      "Requirement already satisfied: packaging>=20.0 in /usr/itetnas04/data-scratch-01/dmettler/data/conda_envs/py38/lib/python3.8/site-packages (from matplotlib) (23.0)\n",
      "Requirement already satisfied: zipp>=3.1.0 in /usr/itetnas04/data-scratch-01/dmettler/data/conda_envs/py38/lib/python3.8/site-packages (from importlib-resources>=3.2.0->matplotlib) (3.15.0)\n",
      "Requirement already satisfied: six>=1.5 in /usr/itetnas04/data-scratch-01/dmettler/data/conda_envs/py38/lib/python3.8/site-packages (from python-dateutil>=2.7->matplotlib) (1.16.0)\n",
      "Requirement already satisfied: openpyxl in /usr/itetnas04/data-scratch-01/dmettler/data/conda_envs/py38/lib/python3.8/site-packages (3.1.2)\n",
      "Requirement already satisfied: et-xmlfile in /usr/itetnas04/data-scratch-01/dmettler/data/conda_envs/py38/lib/python3.8/site-packages (from openpyxl) (1.1.0)\n"
     ]
    }
   ],
   "source": [
    "!pip install pvlib\n",
    "!pip install numpy\n",
    "!pip install pandas\n",
    "!pip install matplotlib\n",
    "!pip install openpyxl\n",
    "# !pip install pvlib[optional]"
   ]
  },
  {
   "attachments": {},
   "cell_type": "markdown",
   "metadata": {},
   "source": [
    "### here we will run our experiments"
   ]
  },
  {
   "cell_type": "code",
   "execution_count": 12,
   "metadata": {},
   "outputs": [],
   "source": [
    "import pvlib\n",
    "\n",
    "import pandas as pd\n",
    "\n",
    "import matplotlib.pyplot as plt\n",
    "\n",
    "\n",
    "coordinates = [\n",
    "    (47.4, 8.54, 'Zurich-ETZ', 550, 'Etc/GMT-1'),\n",
    "    (41.9, 12.5, 'Roma', 53, 'Etc/GMT-1'),\n",
    "    (37.8, -122.4, 'San Francisco', 10, 'Etc/GMT+8'),\n",
    "    (52.5, 13.4, 'Berlin', 34, 'Etc/GMT-1'),\n",
    "]\n",
    "\n",
    "\n",
    "\n",
    "sandia_modules = pvlib.pvsystem.retrieve_sam('SandiaMod')\n",
    "\n",
    "sapm_inverters = pvlib.pvsystem.retrieve_sam('cecinverter')\n",
    "\n",
    "module = sandia_modules['Canadian_Solar_CS5P_220M___2009_']\n",
    "\n",
    "inverter = sapm_inverters['ABB__MICRO_0_25_I_OUTD_US_208__208V_']\n",
    "\n",
    "temperature_model_parameters = pvlib.temperature.TEMPERATURE_MODEL_PARAMETERS['sapm']['open_rack_glass_glass']"
   ]
  },
  {
   "cell_type": "code",
   "execution_count": 13,
   "metadata": {},
   "outputs": [],
   "source": [
    "tmys = []\n",
    "\n",
    "for location in coordinates:\n",
    "    latitude, longitude, name, altitude, timezone = location\n",
    "    weather = pvlib.iotools.get_pvgis_tmy(latitude, longitude,\n",
    "                                          map_variables=True)[0]\n",
    "    weather.index.name = \"utc_time\"\n",
    "    tmys.append(weather)"
   ]
  },
  {
   "cell_type": "code",
   "execution_count": 14,
   "metadata": {},
   "outputs": [
    {
     "name": "stdout",
     "output_type": "stream",
     "text": [
      "Zurich-ETZ       265831.905529\n",
      "Roma             352185.616615\n",
      "San Francisco    393749.369318\n",
      "Berlin           243230.830516\n",
      "dtype: float64\n"
     ]
    },
    {
     "data": {
      "text/plain": [
       "Text(0, 0.5, 'Yearly energy yield (W hr)')"
      ]
     },
     "execution_count": 14,
     "metadata": {},
     "output_type": "execute_result"
    },
    {
     "data": {
      "image/png": "[encoded data removed]",
      "text/plain": [
       "<Figure size 640x480 with 1 Axes>"
      ]
     },
     "metadata": {},
     "output_type": "display_data"
    }
   ],
   "source": [
    "system = {'module': module, 'inverter': inverter,\n",
    "          'surface_azimuth': 180}\n",
    "\n",
    "\n",
    "energies = {}\n",
    "\n",
    "for location, weather in zip(coordinates, tmys):\n",
    "    latitude, longitude, name, altitude, timezone = location\n",
    "    system['surface_tilt'] = latitude\n",
    "    solpos = pvlib.solarposition.get_solarposition(\n",
    "        time=weather.index,\n",
    "        latitude=latitude,\n",
    "        longitude=longitude,\n",
    "        altitude=altitude,\n",
    "        temperature=weather[\"temp_air\"],\n",
    "        pressure=pvlib.atmosphere.alt2pres(altitude),\n",
    "    )\n",
    "    dni_extra = pvlib.irradiance.get_extra_radiation(weather.index)\n",
    "    airmass = pvlib.atmosphere.get_relative_airmass(solpos['apparent_zenith'])\n",
    "    pressure = pvlib.atmosphere.alt2pres(altitude)\n",
    "    am_abs = pvlib.atmosphere.get_absolute_airmass(airmass, pressure)\n",
    "    aoi = pvlib.irradiance.aoi(\n",
    "        system['surface_tilt'],\n",
    "        system['surface_azimuth'],\n",
    "        solpos[\"apparent_zenith\"],\n",
    "        solpos[\"azimuth\"],\n",
    "    )\n",
    "    total_irradiance = pvlib.irradiance.get_total_irradiance(\n",
    "        system['surface_tilt'],\n",
    "        system['surface_azimuth'],\n",
    "        solpos['apparent_zenith'],\n",
    "        solpos['azimuth'],\n",
    "        weather['dni'],\n",
    "        weather['ghi'],\n",
    "        weather['dhi'],\n",
    "        dni_extra=dni_extra,\n",
    "        model='haydavies',\n",
    "    )\n",
    "    cell_temperature = pvlib.temperature.sapm_cell(\n",
    "        total_irradiance['poa_global'],\n",
    "        weather[\"temp_air\"],\n",
    "        weather[\"wind_speed\"],\n",
    "        **temperature_model_parameters,\n",
    "    )\n",
    "    effective_irradiance = pvlib.pvsystem.sapm_effective_irradiance(\n",
    "        total_irradiance['poa_direct'],\n",
    "        total_irradiance['poa_diffuse'],\n",
    "        am_abs,\n",
    "        aoi,\n",
    "        module,\n",
    "    )\n",
    "    dc = pvlib.pvsystem.sapm(effective_irradiance, cell_temperature, module)\n",
    "    ac = pvlib.inverter.sandia(dc['v_mp'], dc['p_mp'], inverter)\n",
    "    annual_energy = ac.sum()\n",
    "    energies[name] = annual_energy\n",
    "\n",
    "\n",
    "energies = pd.Series(energies)\n",
    "\n",
    "\n",
    "print(energies)\n",
    "\n",
    "\n",
    "\n",
    "\n",
    "\n",
    "\n",
    "energies.plot(kind='bar', rot=0)\n",
    "\n",
    "\n",
    "plt.ylabel('Yearly energy yield (W hr)')\n"
   ]
  },
  {
   "cell_type": "code",
   "execution_count": null,
   "metadata": {},
   "outputs": [],
   "source": []
  },
  {
   "cell_type": "code",
   "execution_count": null,
   "metadata": {},
   "outputs": [],
   "source": []
  }
 ],
 "metadata": {
  "kernelspec": {
   "display_name": "py38",
   "language": "python",
   "name": "python3"
  },
  "language_info": {
   "codemirror_mode": {
    "name": "ipython",
    "version": 3
   },
   "file_extension": ".py",
   "mimetype": "text/x-python",
   "name": "python",
   "nbconvert_exporter": "python",
   "pygments_lexer": "ipython3",
   "version": "3.8.5"
  },
  "orig_nbformat": 4
 },
 "nbformat": 4,
 "nbformat_minor": 2
}
