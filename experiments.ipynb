{
 "cells": [
  {
   "attachments": {},
   "cell_type": "markdown",
   "metadata": {},
   "source": [
    "# Welcome to SUSSY PV"
   ]
  },
  {
   "attachments": {},
   "cell_type": "markdown",
   "metadata": {},
   "source": [
    "## By Laos, Lukesi, Darian"
   ]
  },
  {
   "cell_type": "code",
   "execution_count": 7,
   "metadata": {},
   "outputs": [
    {
     "name": "stdout",
     "output_type": "stream",
     "text": [
      "/bin/bash: cond: command not found\n",
      "\n",
      "CommandNotFoundError: Your shell has not been properly configured to use 'conda activate'.\n",
      "To initialize your shell, run\n",
      "\n",
      "    $ conda init <SHELL_NAME>\n",
      "\n",
      "Currently supported shells are:\n",
      "  - bash\n",
      "  - fish\n",
      "  - tcsh\n",
      "  - xonsh\n",
      "  - zsh\n",
      "  - powershell\n",
      "\n",
      "See 'conda init --help' for more information and options.\n",
      "\n",
      "IMPORTANT: You may need to close and restart your shell after running 'conda init'.\n",
      "\n",
      "\n"
     ]
    }
   ],
   "source": [
    "!cond create -n pvlib -c conda-forge pvlib; conda activate pvlib"
   ]
  },
  {
   "cell_type": "code",
   "execution_count": 1,
   "metadata": {},
   "outputs": [
    {
     "name": "stdout",
     "output_type": "stream",
     "text": [
      "Requirement already satisfied: pvlib in /usr/itetnas04/data-scratch-01/dmettler/data/conda_envs/py38/lib/python3.8/site-packages (0.9.5)\n",
      "Requirement already satisfied: scipy>=1.4.0 in /usr/itetnas04/data-scratch-01/dmettler/data/conda_envs/py38/lib/python3.8/site-packages (from pvlib) (1.10.1)\n",
      "Requirement already satisfied: numpy>=1.16.0 in /usr/itetnas04/data-scratch-01/dmettler/data/conda_envs/py38/lib/python3.8/site-packages (from pvlib) (1.24.2)\n",
      "Requirement already satisfied: requests in /usr/itetnas04/data-scratch-01/dmettler/data/conda_envs/py38/lib/python3.8/site-packages (from pvlib) (2.28.2)\n",
      "Requirement already satisfied: pandas>=0.25.0 in /usr/itetnas04/data-scratch-01/dmettler/data/conda_envs/py38/lib/python3.8/site-packages (from pvlib) (1.5.3)\n",
      "Requirement already satisfied: pytz in /usr/itetnas04/data-scratch-01/dmettler/data/conda_envs/py38/lib/python3.8/site-packages (from pvlib) (2023.3)\n",
      "Requirement already satisfied: h5py in /usr/itetnas04/data-scratch-01/dmettler/data/conda_envs/py38/lib/python3.8/site-packages (from pvlib) (3.8.0)\n",
      "Requirement already satisfied: python-dateutil>=2.8.1 in /usr/itetnas04/data-scratch-01/dmettler/data/conda_envs/py38/lib/python3.8/site-packages (from pandas>=0.25.0->pvlib) (2.8.2)\n",
      "Requirement already satisfied: idna<4,>=2.5 in /usr/itetnas04/data-scratch-01/dmettler/data/conda_envs/py38/lib/python3.8/site-packages (from requests->pvlib) (3.4)\n",
      "Requirement already satisfied: certifi>=2017.4.17 in /usr/itetnas04/data-scratch-01/dmettler/data/conda_envs/py38/lib/python3.8/site-packages (from requests->pvlib) (2022.12.7)\n",
      "Requirement already satisfied: charset-normalizer<4,>=2 in /usr/itetnas04/data-scratch-01/dmettler/data/conda_envs/py38/lib/python3.8/site-packages (from requests->pvlib) (3.1.0)\n",
      "Requirement already satisfied: urllib3<1.27,>=1.21.1 in /usr/itetnas04/data-scratch-01/dmettler/data/conda_envs/py38/lib/python3.8/site-packages (from requests->pvlib) (1.26.15)\n",
      "Requirement already satisfied: six>=1.5 in /usr/itetnas04/data-scratch-01/dmettler/data/conda_envs/py38/lib/python3.8/site-packages (from python-dateutil>=2.8.1->pandas>=0.25.0->pvlib) (1.16.0)\n"
     ]
    }
   ],
   "source": [
    "!pip install pvlib\n",
    "# !pip install pvlib[optional]"
   ]
  },
  {
   "attachments": {},
   "cell_type": "markdown",
   "metadata": {},
   "source": [
    "### here we will run our experiments"
   ]
  },
  {
   "cell_type": "code",
   "execution_count": 2,
   "metadata": {},
   "outputs": [],
   "source": [
    "import pvlib\n",
    "# import pandas as pd\n",
    "# import mathplotlib.pyplot as plt"
   ]
  },
  {
   "cell_type": "code",
   "execution_count": null,
   "metadata": {},
   "outputs": [],
   "source": []
  }
 ],
 "metadata": {
  "kernelspec": {
   "display_name": "py38",
   "language": "python",
   "name": "python3"
  },
  "language_info": {
   "codemirror_mode": {
    "name": "ipython",
    "version": 3
   },
   "file_extension": ".py",
   "mimetype": "text/x-python",
   "name": "python",
   "nbconvert_exporter": "python",
   "pygments_lexer": "ipython3",
   "version": "3.8.5"
  },
  "orig_nbformat": 4
 },
 "nbformat": 4,
 "nbformat_minor": 2
}
