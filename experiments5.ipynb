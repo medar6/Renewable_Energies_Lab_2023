{
 "cells": [
  {
   "cell_type": "code",
   "execution_count": 1,
   "metadata": {},
   "outputs": [],
   "source": [
    "import pvlib\n",
    "\n",
    "import pandas as pd\n",
    "\n",
    "import matplotlib.pyplot as plt\n",
    "\n",
    "import pvlib.pvsystem as pvsystem\n",
    "\n",
    "\n",
    "# coordinates = [(47.4, 8.54, 'Zurich-ETZ', 550, 'Etc/GMT-1'),(47.4, 8.54, 'Zurich-ETZ', 550, 'Etc/GMT-1')]\n",
    "\n",
    "sandia_modules = pvlib.pvsystem.retrieve_sam('SandiaMod')\n",
    "\n",
    "sapm_inverters = pvlib.pvsystem.retrieve_sam('cecinverter')\n",
    "\n",
    "module = sandia_modules['Canadian_Solar_CS5P_220M___2009_']\n",
    "\n",
    "inverter = sapm_inverters['ABB__MICRO_0_25_I_OUTD_US_208__208V_']\n",
    "\n",
    "temperature_model_parameters = pvlib.temperature.TEMPERATURE_MODEL_PARAMETERS['sapm']['open_rack_glass_glass']"
   ]
  },
  {
   "cell_type": "code",
   "execution_count": 5,
   "metadata": {},
   "outputs": [],
   "source": [
    "systems = [({'surface_azimuth': 0, 'surface_tilt':40}),\n",
    "           ({'surface_azimuth': 30,'surface_tilt':40}),\n",
    "           ({'surface_azimuth': 60,'surface_tilt':40}),\n",
    "           ({'surface_azimuth': 90,'surface_tilt':40}),\n",
    "           ({'surface_azimuth': 120,'surface_tilt':40}),\n",
    "           ({'surface_azimuth': 150,'surface_tilt':40}),\n",
    "           ({'surface_azimuth': 180,'surface_tilt':40}),\n",
    "           ({'surface_azimuth': 210,'surface_tilt':40}),\n",
    "           ({'surface_azimuth': 240,'surface_tilt':40}),\n",
    "           ({'surface_azimuth': 270,'surface_tilt':40}),\n",
    "           ({'surface_azimuth': 300,'surface_tilt':40}),\n",
    "           ({'surface_azimuth': 360,'surface_tilt':40})]\n",
    "\n",
    "system_names = [\"testone\", \"testtwo\"]"
   ]
  },
  {
   "cell_type": "code",
   "execution_count": 3,
   "metadata": {},
   "outputs": [],
   "source": [
    "tmys = []\n",
    "\n",
    "coordinates = []\n",
    "\n",
    "for x in range(0, len(systems)):\n",
    "    coordinates.append((47.4, 8.54, 'Zurich-ETZ', 550, 'Etc/GMT-1'))\n",
    "\n",
    "for location in coordinates:\n",
    "    latitude, longitude, name, altitude, timezone = location\n",
    "    weather = pvlib.iotools.get_pvgis_tmy(latitude, longitude,map_variables=True)[0]\n",
    "    weather.index.name = \"utc_time\"\n",
    "    tmys.append(weather)"
   ]
  },
  {
   "cell_type": "code",
   "execution_count": 6,
   "metadata": {},
   "outputs": [
    {
     "name": "stdout",
     "output_type": "stream",
     "text": [
      "azimuth:0\\ntilt:40      129994.780259\n",
      "azimuth:30\\ntilt:40     147462.519024\n",
      "azimuth:60\\ntilt:40     181601.180883\n",
      "azimuth:90\\ntilt:40     217555.803687\n",
      "azimuth:120\\ntilt:40    246990.585003\n",
      "azimuth:150\\ntilt:40    265465.626006\n",
      "azimuth:180\\ntilt:40    269931.194958\n",
      "azimuth:210\\ntilt:40    259782.244337\n",
      "azimuth:240\\ntilt:40    236849.182244\n",
      "azimuth:270\\ntilt:40    205491.063030\n",
      "azimuth:300\\ntilt:40    169549.576178\n",
      "azimuth:360\\ntilt:40    129994.780259\n",
      "dtype: float64\n"
     ]
    },
    {
     "data": {
      "text/plain": [
       "Text(0, 0.5, 'Yearly energy yield (W hr)')"
      ]
     },
     "execution_count": 6,
     "metadata": {},
     "output_type": "execute_result"
    },
    {
     "data": {
      "image/png": "[encoded data removed]",
      "text/plain": [
       "<Figure size 640x480 with 1 Axes>"
      ]
     },
     "metadata": {},
     "output_type": "display_data"
    }
   ],
   "source": [
    "energies = {}\n",
    "\n",
    "i=0\n",
    "\n",
    "for system, weather, location in zip(systems, tmys, coordinates):\n",
    "    latitude, longitude, name, altitude, timezone = location\n",
    "    # system['surface_tilt'] = latitude\n",
    "    solpos = pvlib.solarposition.get_solarposition(\n",
    "        time=weather.index,\n",
    "        latitude=latitude,\n",
    "        longitude=longitude,\n",
    "        altitude=altitude,\n",
    "        temperature=weather[\"temp_air\"],\n",
    "        pressure=pvlib.atmosphere.alt2pres(altitude),\n",
    "    )\n",
    "    dni_extra = pvlib.irradiance.get_extra_radiation(weather.index)\n",
    "    airmass = pvlib.atmosphere.get_relative_airmass(solpos['apparent_zenith'])\n",
    "    pressure = pvlib.atmosphere.alt2pres(altitude)\n",
    "    am_abs = pvlib.atmosphere.get_absolute_airmass(airmass, pressure)\n",
    "    aoi = pvlib.irradiance.aoi(\n",
    "        system['surface_tilt'],\n",
    "        system['surface_azimuth'],\n",
    "        solpos[\"apparent_zenith\"],\n",
    "        solpos[\"azimuth\"],\n",
    "    )\n",
    "    total_irradiance = pvlib.irradiance.get_total_irradiance(\n",
    "        system['surface_tilt'],\n",
    "        system['surface_azimuth'],\n",
    "        solpos['apparent_zenith'],\n",
    "        solpos['azimuth'],\n",
    "        weather['dni'],\n",
    "        weather['ghi'],\n",
    "        weather['dhi'],\n",
    "        dni_extra=dni_extra,\n",
    "        model='haydavies',\n",
    "    )\n",
    "    cell_temperature = pvlib.temperature.sapm_cell(\n",
    "        total_irradiance['poa_global'],\n",
    "        weather[\"temp_air\"],\n",
    "        weather[\"wind_speed\"],\n",
    "        **temperature_model_parameters,\n",
    "    )\n",
    "    effective_irradiance = pvlib.pvsystem.sapm_effective_irradiance(\n",
    "        total_irradiance['poa_direct'],\n",
    "        total_irradiance['poa_diffuse'],\n",
    "        am_abs,\n",
    "        aoi,\n",
    "        module,\n",
    "    )\n",
    "    dc = pvlib.pvsystem.sapm(effective_irradiance, cell_temperature, module)\n",
    "    ac = pvlib.inverter.sandia(dc['v_mp'], dc['p_mp'], inverter)\n",
    "    annual_energy = ac.sum()\n",
    "    energies[\"azimuth:\"+str(system['surface_azimuth'])+\"\\n\"+\"tilt:\"+str(system['surface_tilt'])] = annual_energy\n",
    "    i+=1\n",
    "    # print(\"run\")\n",
    "\n",
    "\n",
    "energies = pd.Series(energies)\n",
    "\n",
    "\n",
    "print(energies)\n",
    "\n",
    "\n",
    "\n",
    "\n",
    "\n",
    "\n",
    "energies.plot(kind='bar', rot=90)\n",
    "\n",
    "plt.ylabel('Yearly energy yield (W hr)')\n",
    "# plt.width(300)\n"
   ]
  },
  {
   "cell_type": "code",
   "execution_count": null,
   "metadata": {},
   "outputs": [],
   "source": []
  }
 ],
 "metadata": {
  "kernelspec": {
   "display_name": "py38",
   "language": "python",
   "name": "python3"
  },
  "language_info": {
   "codemirror_mode": {
    "name": "ipython",
    "version": 3
   },
   "file_extension": ".py",
   "mimetype": "text/x-python",
   "name": "python",
   "nbconvert_exporter": "python",
   "pygments_lexer": "ipython3",
   "version": "3.8.5"
  },
  "orig_nbformat": 4
 },
 "nbformat": 4,
 "nbformat_minor": 2
}
