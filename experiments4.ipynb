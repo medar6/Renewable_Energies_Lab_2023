{
 "cells": [
  {
   "cell_type": "code",
   "execution_count": 1,
   "metadata": {},
   "outputs": [],
   "source": [
    "import pvlib\n",
    "\n",
    "import pandas as pd\n",
    "\n",
    "import matplotlib.pyplot as plt\n",
    "\n",
    "import pvlib.pvsystem as pvsystem\n",
    "\n",
    "\n",
    "# coordinates = [(47.4, 8.54, 'Zurich-ETZ', 550, 'Etc/GMT-1'),(47.4, 8.54, 'Zurich-ETZ', 550, 'Etc/GMT-1')]\n",
    "\n",
    "sandia_modules = pvlib.pvsystem.retrieve_sam('SandiaMod')\n",
    "\n",
    "sapm_inverters = pvlib.pvsystem.retrieve_sam('cecinverter')\n",
    "\n",
    "module = sandia_modules['Canadian_Solar_CS5P_220M___2009_']\n",
    "\n",
    "inverter = sapm_inverters['ABB__MICRO_0_25_I_OUTD_US_208__208V_']\n",
    "\n",
    "temperature_model_parameters = pvlib.temperature.TEMPERATURE_MODEL_PARAMETERS['sapm']['open_rack_glass_glass']"
   ]
  },
  {
   "cell_type": "code",
   "execution_count": 2,
   "metadata": {},
   "outputs": [],
   "source": [
    "systems = [({'surface_azimuth': 180, 'surface_tilt':0}),\n",
    "           ({'surface_azimuth': 180,'surface_tilt':30}),\n",
    "           ({'surface_azimuth': 180,'surface_tilt':60}),\n",
    "           ({'surface_azimuth': 180,'surface_tilt':90}),\n",
    "           ({'surface_azimuth': 180,'surface_tilt':120}),\n",
    "           ({'surface_azimuth': 180,'surface_tilt':150}),\n",
    "           ({'surface_azimuth': 180,'surface_tilt':180}),\n",
    "           ({'surface_azimuth': 180,'surface_tilt':210}),\n",
    "           ({'surface_azimuth': 180,'surface_tilt':240}),\n",
    "           ({'surface_azimuth': 180,'surface_tilt':270}),\n",
    "           ({'surface_azimuth': 180,'surface_tilt':300}),\n",
    "           ({'surface_azimuth': 180,'surface_tilt':330})]\n",
    "\n",
    "# system_names = [\"testone\", \"testtwo\"]"
   ]
  },
  {
   "cell_type": "code",
   "execution_count": 3,
   "metadata": {},
   "outputs": [],
   "source": [
    "tmys = []\n",
    "\n",
    "coordinates = []\n",
    "\n",
    "for x in range(0, len(systems)):\n",
    "    coordinates.append((47.4, 8.54, 'Zurich-ETZ', 550, 'Etc/GMT+2'))\n",
    "\n",
    "for location in coordinates:\n",
    "    latitude, longitude, name, altitude, timezone = location\n",
    "    weather = pvlib.iotools.get_pvgis_tmy(latitude, longitude,map_variables=True)[0]\n",
    "    weather.index.name = \"utc_time\"\n",
    "    tmys.append(weather)"
   ]
  },
  {
   "cell_type": "code",
   "execution_count": 4,
   "metadata": {},
   "outputs": [
    {
     "name": "stdout",
     "output_type": "stream",
     "text": [
      "355737.7923229824\n"
     ]
    },
    {
     "data": {
      "text/plain": [
       "355737.79"
      ]
     },
     "execution_count": 4,
     "metadata": {},
     "output_type": "execute_result"
    },
    {
     "data": {
      "image/png": "[encoded data removed]",
      "text/plain": [
       "<Figure size 640x480 with 1 Axes>"
      ]
     },
     "metadata": {},
     "output_type": "display_data"
    }
   ],
   "source": [
    "energies = {}\n",
    "\n",
    "i=0\n",
    "\n",
    "for system, weather, location in zip(systems, tmys, coordinates):\n",
    "    latitude, longitude, name, altitude, timezone = location\n",
    "    # system['surface_tilt'] = latitude\n",
    "    solpos = pvlib.solarposition.get_solarposition(\n",
    "        time=weather.index,\n",
    "        latitude=latitude,\n",
    "        longitude=longitude,\n",
    "        altitude=altitude,\n",
    "        temperature=weather[\"temp_air\"],\n",
    "        pressure=pvlib.atmosphere.alt2pres(altitude),\n",
    "    )\n",
    "    dni_extra = pvlib.irradiance.get_extra_radiation(weather.index)\n",
    "    airmass = pvlib.atmosphere.get_relative_airmass(solpos['apparent_zenith'])\n",
    "    pressure = pvlib.atmosphere.alt2pres(altitude)\n",
    "    am_abs = pvlib.atmosphere.get_absolute_airmass(airmass, pressure)\n",
    "    # aoi = pvlib.irradiance.aoi(\n",
    "    #     system['surface_tilt'],\n",
    "    #     system['surface_azimuth'],\n",
    "    #     solpos[\"apparent_zenith\"],\n",
    "    #     solpos[\"azimuth\"],\n",
    "    # )\n",
    "    aoi = 0\n",
    "    # total_irradiance = pvlib.irradiance.get_total_irradiance(\n",
    "    #     system['surface_tilt'],\n",
    "    #     system['surface_azimuth'],\n",
    "    #     solpos['apparent_zenith'],\n",
    "    #     solpos['azimuth'],\n",
    "    #     weather['dni'],\n",
    "    #     weather['ghi'],\n",
    "    #     weather['dhi'],\n",
    "    #     dni_extra=dni_extra,\n",
    "    #     model='haydavies',\n",
    "    # )\n",
    "    \n",
    "    total_irradiance = pvlib.irradiance.get_total_irradiance(\n",
    "        solpos['apparent_zenith'],\n",
    "        solpos['azimuth'],\n",
    "        solpos['apparent_zenith'],\n",
    "        solpos['azimuth'],\n",
    "        weather['dni'],\n",
    "        weather['ghi'],\n",
    "        weather['dhi'],\n",
    "        dni_extra=dni_extra,\n",
    "        model='haydavies',\n",
    "    )\n",
    "\n",
    "    cell_temperature = pvlib.temperature.sapm_cell(\n",
    "        total_irradiance['poa_global'],\n",
    "        weather[\"temp_air\"],\n",
    "        weather[\"wind_speed\"],\n",
    "        **temperature_model_parameters,\n",
    "    )\n",
    "    effective_irradiance = pvlib.pvsystem.sapm_effective_irradiance(\n",
    "        total_irradiance['poa_direct'],\n",
    "        total_irradiance['poa_diffuse'],\n",
    "        am_abs,\n",
    "        aoi,\n",
    "        module,\n",
    "    )\n",
    "    dc = pvlib.pvsystem.sapm(effective_irradiance, cell_temperature, module)\n",
    "    ac = pvlib.inverter.sandia(dc['v_mp'], dc['p_mp'], inverter)\n",
    "    annual_energy = ac.sum()\n",
    "    energies[\"azimuth:\"+str(system['surface_azimuth'])+\"\\n\"+\"tilt:\"+str(system['surface_tilt'])] = annual_energy\n",
    "    i+=1\n",
    "    # print(\"run\")\n",
    "\n",
    "\n",
    "energies = pd.Series(energies)\n",
    "\n",
    "\n",
    "print(energies[0])\n",
    "\n",
    "\n",
    "\n",
    "\n",
    "\n",
    "\n",
    "energies.plot(kind='bar', rot=90)\n",
    "355737.79"
   ]
  },
  {
   "cell_type": "code",
   "execution_count": null,
   "metadata": {},
   "outputs": [],
   "source": []
  }
 ],
 "metadata": {
  "kernelspec": {
   "display_name": "py38",
   "language": "python",
   "name": "python3"
  },
  "language_info": {
   "codemirror_mode": {
    "name": "ipython",
    "version": 3
   },
   "file_extension": ".py",
   "mimetype": "text/x-python",
   "name": "python",
   "nbconvert_exporter": "python",
   "pygments_lexer": "ipython3",
   "version": "3.8.5"
  },
  "orig_nbformat": 4
 },
 "nbformat": 4,
 "nbformat_minor": 2
}
