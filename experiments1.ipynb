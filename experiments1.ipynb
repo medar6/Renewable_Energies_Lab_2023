{
 "cells": [
  {
   "cell_type": "code",
   "execution_count": 1,
   "metadata": {},
   "outputs": [],
   "source": [
    "import pvlib\n",
    "\n",
    "import pandas as pd\n",
    "\n",
    "import matplotlib.pyplot as plt\n",
    "\n",
    "import pvlib.pvsystem as pvsystem"
   ]
  },
  {
   "cell_type": "code",
   "execution_count": 10,
   "metadata": {},
   "outputs": [
    {
     "name": "stdout",
     "output_type": "stream",
     "text": [
      "{'pdc0': 5000, 'eta_inv_nom': 0.96}\n"
     ]
    }
   ],
   "source": [
    "module_parameters = {'pdc0': 5000, 'gamma_pdc': -0.004}\n",
    "\n",
    "inverter_parameters = {'pdc0': 5000, 'eta_inv_nom': 0.96}\n",
    "\n",
    "system = pvsystem.PVSystem(inverter_parameters=inverter_parameters,\n",
    "                           module_parameters=module_parameters)\n",
    "\n",
    "\n",
    "print(system.inverter_parameters)"
   ]
  },
  {
   "cell_type": "code",
   "execution_count": 11,
   "metadata": {},
   "outputs": [
    {
     "name": "stdout",
     "output_type": "stream",
     "text": [
      "4900.0\n"
     ]
    }
   ],
   "source": [
    "pdc = system.pvwatts_dc(g_poa_effective=1000, temp_cell=30)\n",
    "\n",
    "print(pdc)"
   ]
  },
  {
   "cell_type": "code",
   "execution_count": 2,
   "metadata": {},
   "outputs": [
    {
     "name": "stdout",
     "output_type": "stream",
     "text": [
      "FixedMount(surface_tilt=20, surface_azimuth=180, racking_model=None, module_height=None)\n"
     ]
    }
   ],
   "source": [
    "system_one_array = pvsystem.PVSystem(surface_tilt=20, surface_azimuth=180)\n",
    "\n",
    "print(system_one_array.arrays[0].mount)"
   ]
  },
  {
   "cell_type": "code",
   "execution_count": 13,
   "metadata": {},
   "outputs": [
    {
     "name": "stdout",
     "output_type": "stream",
     "text": [
      "30 90\n",
      "FixedMount(surface_tilt=30, surface_azimuth=90, racking_model=None, module_height=None)\n",
      "FixedMount(surface_tilt=30, surface_azimuth=220, racking_model=None, module_height=None)\n"
     ]
    }
   ],
   "source": [
    "array_one = pvsystem.Array(pvsystem.FixedMount(surface_tilt=30, surface_azimuth=90))\n",
    "\n",
    "print(array_one.mount.surface_tilt, array_one.mount.surface_azimuth)\n",
    "\n",
    "\n",
    "array_two = pvsystem.Array(pvsystem.FixedMount(surface_tilt=30, surface_azimuth=220))\n",
    "\n",
    "system = pvsystem.PVSystem(arrays=[array_one, array_two])\n",
    "\n",
    "system.num_arrays\n",
    "\n",
    "\n",
    "for array in system.arrays:\n",
    "    print(array.mount)"
   ]
  },
  {
   "cell_type": "code",
   "execution_count": 14,
   "metadata": {},
   "outputs": [
    {
     "name": "stdout",
     "output_type": "stream",
     "text": [
      "FixedMount(surface_tilt=20, surface_azimuth=180, racking_model=None, module_height=None)\n",
      "9.999999999999975\n"
     ]
    }
   ],
   "source": [
    "system_one_array = pvsystem.PVSystem(surface_tilt=20, surface_azimuth=180)\n",
    "\n",
    "print(system_one_array.arrays[0].mount)\n",
    "\n",
    "\n",
    "\n",
    "aoi = system_one_array.get_aoi(solar_zenith=30, solar_azimuth=180)\n",
    "\n",
    "print(aoi)"
   ]
  },
  {
   "cell_type": "code",
   "execution_count": null,
   "metadata": {},
   "outputs": [],
   "source": []
  }
 ],
 "metadata": {
  "kernelspec": {
   "display_name": "py38",
   "language": "python",
   "name": "python3"
  },
  "language_info": {
   "codemirror_mode": {
    "name": "ipython",
    "version": 3
   },
   "file_extension": ".py",
   "mimetype": "text/x-python",
   "name": "python",
   "nbconvert_exporter": "python",
   "pygments_lexer": "ipython3",
   "version": "3.8.5"
  },
  "orig_nbformat": 4
 },
 "nbformat": 4,
 "nbformat_minor": 2
}
